{
 "cells": [
  {
   "cell_type": "markdown",
   "metadata": {
    "application/vnd.databricks.v1+cell": {
     "cellMetadata": {
      "byteLimit": 2048000,
      "rowLimit": 10000
     },
     "inputWidgets": {},
     "nuid": "bc5cc597-e203-430e-b1fc-3bcd35d1ed12",
     "showTitle": false,
     "tableResultSettingsMap": {},
     "title": ""
    }
   },
   "source": [
    "![](/Volumes/jpm/naval/csv/Screenshot 2025-02-25 at 5.15.48 PM.png)"
   ]
  },
  {
   "cell_type": "code",
   "execution_count": 0,
   "metadata": {
    "application/vnd.databricks.v1+cell": {
     "cellMetadata": {
      "byteLimit": 2048000,
      "implicitDf": true,
      "rowLimit": 10000
     },
     "inputWidgets": {},
     "nuid": "b853f6b4-260c-4b3e-9fc5-3b91f43d2a7c",
     "showTitle": false,
     "tableResultSettingsMap": {},
     "title": ""
    }
   },
   "outputs": [],
   "source": [
    "%sql\n",
    "use catalog jpm;\n",
    "create schema if not exists kunal_bronze;\n",
    "create schema if not exists Kunal_silver;\n",
    "create schema if not exists Kunal_gold;"
   ]
  },
  {
   "cell_type": "code",
   "execution_count": 0,
   "metadata": {
    "application/vnd.databricks.v1+cell": {
     "cellMetadata": {
      "byteLimit": 2048000,
      "rowLimit": 10000
     },
     "inputWidgets": {},
     "nuid": "f643e2ee-2c59-4f30-afeb-f93446694c20",
     "showTitle": false,
     "tableResultSettingsMap": {},
     "title": ""
    }
   },
   "outputs": [],
   "source": [
    "df=spark.read.csv(\"/Volumes/jpm/subro/financial/Financial Sample.csv\",header=True)"
   ]
  },
  {
   "cell_type": "code",
   "execution_count": 0,
   "metadata": {
    "application/vnd.databricks.v1+cell": {
     "cellMetadata": {
      "byteLimit": 2048000,
      "rowLimit": 10000
     },
     "inputWidgets": {},
     "nuid": "297562d7-98e5-4dde-ae0a-8b2b18b9a2b8",
     "showTitle": false,
     "tableResultSettingsMap": {},
     "title": ""
    }
   },
   "outputs": [],
   "source": [
    "df.createOrReplaceTempView(\"sample_temp\")"
   ]
  },
  {
   "cell_type": "code",
   "execution_count": 0,
   "metadata": {
    "application/vnd.databricks.v1+cell": {
     "cellMetadata": {
      "byteLimit": 2048000,
      "implicitDf": true,
      "rowLimit": 10000
     },
     "inputWidgets": {},
     "nuid": "0883437f-16b4-43f5-b898-58cda6f884c5",
     "showTitle": false,
     "tableResultSettingsMap": {},
     "title": ""
    }
   },
   "outputs": [],
   "source": [
    "%sql\n",
    "create or replace table kunal_bronze.finacialtemp as \n",
    "(SELECT `Segment`,\n",
    "       `Country`,\n",
    "       ` Product ` AS product,\n",
    "       ` Discount Band ` as discount_band,\n",
    "       `Units Sold` units_sold,\n",
    "       ` Manufacturing Price ` AS manufacturing_price ,\n",
    "       ` Sale Price ` as sale_price,\n",
    "       ` Gross Sales ` as gross_sales,\n",
    "       ` Discounts ` as discount,\n",
    "       `  Sales ` as sales,\n",
    "       ` COGS ` as cogs,\n",
    "       ` Profit ` as profit,\n",
    "       `Date` as date,\n",
    "       `Month Number` as month_number,\n",
    "       ` Month Name ` as month_name,\n",
    "       `Year`,\n",
    "       current_date() as ingestion_date \n",
    "FROM sample_temp)"
   ]
  },
  {
   "cell_type": "code",
   "execution_count": 0,
   "metadata": {
    "application/vnd.databricks.v1+cell": {
     "cellMetadata": {
      "byteLimit": 2048000,
      "rowLimit": 10000
     },
     "inputWidgets": {},
     "nuid": "0655f1e7-b9d8-4873-b84f-7d27a2a491d0",
     "showTitle": false,
     "tableResultSettingsMap": {},
     "title": ""
    }
   },
   "outputs": [],
   "source": [
    "spark.sql(\"CREATE TABLE jpm.kunal_bronze.financial_sample AS SELECT * FROM sample_temp\")"
   ]
  },
  {
   "cell_type": "code",
   "execution_count": 0,
   "metadata": {
    "application/vnd.databricks.v1+cell": {
     "cellMetadata": {
      "byteLimit": 2048000,
      "implicitDf": true,
      "rowLimit": 10000
     },
     "inputWidgets": {},
     "nuid": "b903a8d3-f7ce-4102-8a82-e168105c9188",
     "showTitle": false,
     "tableResultSettingsMap": {},
     "title": ""
    }
   },
   "outputs": [],
   "source": [
    "%sql\n",
    "create or replace table kunal_bronze.finacialtemp as \n",
    "(SELECT `Segment`,\n",
    "       `Country`,\n",
    "       ` Product ` AS product,\n",
    "       ` Discount Band ` as discount_band,\n",
    "       CAST(regexp_replace(`Units Sold`, '[\\\\s\\\\$]', '') AS INT) as units_sold,\n",
    "       ` Manufacturing Price ` AS manufacturing_price,\n",
    "       ` Sale Price ` as sale_price,\n",
    "       ` Gross Sales ` as gross_sales,\n",
    "       ` Discounts ` as discount,\n",
    "       `  Sales ` as sales,\n",
    "       ` COGS ` as cogs,\n",
    "       ` Profit ` as profit,\n",
    "       `Date` as date,\n",
    "       `Month Number` as month_number,\n",
    "       ` Month Name ` as month_name,\n",
    "       `Year`,\n",
    "       current_date() as ingestion_date \n",
    "FROM sample_temp)"
   ]
  },
  {
   "cell_type": "code",
   "execution_count": 0,
   "metadata": {
    "application/vnd.databricks.v1+cell": {
     "cellMetadata": {
      "byteLimit": 2048000,
      "implicitDf": true,
      "rowLimit": 10000
     },
     "inputWidgets": {},
     "nuid": "6147f9e2-496b-4ae6-ba6b-9e3fcccae068",
     "showTitle": false,
     "tableResultSettingsMap": {
      "0": {
       "filterBlob": "{\"filterGroups\":[{\"enabled\":true,\"filterGroupId\":\"fg_8d02d6a5\",\"op\":\"OR\",\"filters\":[{\"filterId\":\"f_64d341a2\",\"enabled\":true,\"columnId\":\"units_sold\",\"dataType\":\"integer\",\"filterType\":\"oneof\"}],\"local\":false,\"updatedAt\":1740488625331}],\"syncTimestamp\":1740488625332}",
       "tableResultIndex": 0
      }
     },
     "title": ""
    }
   },
   "outputs": [],
   "source": [
    "%sql\n",
    "select * from kunal_bronze.finacialtemp"
   ]
  }
 ],
 "metadata": {
  "application/vnd.databricks.v1+notebook": {
   "computePreferences": null,
   "dashboards": [],
   "environmentMetadata": {
    "base_environment": "",
    "environment_version": "2"
   },
   "language": "python",
   "notebookMetadata": {
    "mostRecentlyExecutedCommandWithImplicitDF": {
     "commandId": 6602208895596366,
     "dataframes": [
      "_sqldf"
     ]
    },
    "pythonIndentUnit": 4
   },
   "notebookName": "Kunal Bronze",
   "widgets": {}
  },
  "language_info": {
   "name": "python"
  }
 },
 "nbformat": 4,
 "nbformat_minor": 0
}
