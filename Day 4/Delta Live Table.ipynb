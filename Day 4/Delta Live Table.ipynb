{
 "cells": [
  {
   "cell_type": "code",
   "execution_count": 0,
   "metadata": {
    "application/vnd.databricks.v1+cell": {
     "cellMetadata": {
      "byteLimit": 2048000,
      "rowLimit": 10000
     },
     "inputWidgets": {},
     "nuid": "cf13eaec-65bb-42bb-abb8-517b97f2155f",
     "showTitle": false,
     "tableResultSettingsMap": {},
     "title": ""
    }
   },
   "outputs": [],
   "source": [
    "create streaming table customers as\n",
    "select * from cloud_files(\"abfss://raw@adlsdatamaster.dfs.core.windows.net/dlt/customers\", \"csv\")"
   ]
  },
  {
   "cell_type": "code",
   "execution_count": 0,
   "metadata": {
    "application/vnd.databricks.v1+cell": {
     "cellMetadata": {},
     "inputWidgets": {},
     "nuid": "2eb056b7-2eb8-46c2-ac17-d2bd89edaf45",
     "showTitle": false,
     "tableResultSettingsMap": {},
     "title": ""
    }
   },
   "outputs": [],
   "source": [
    "-- Create and populate the target table.\n",
    "CREATE OR REFRESH STREAMING TABLE customer_silver;\n",
    "\n",
    "APPLY CHANGES INTO\n",
    "  products_silver\n",
    "FROM\n",
    "  stream(live.products)\n",
    "KEYS\n",
    "  (product_id)\n",
    "APPLY AS DELETE WHEN\n",
    "  operation = \"DELETE\"\n",
    "SEQUENCE BY\n",
    "  seqNum\n",
    "COLUMNS * EXCEPT\n",
    "  (operation, seqNum,_rescued_data)\n",
    "STORED AS\n",
    "  SCD TYPE 1;"
   ]
  },
  {
   "cell_type": "code",
   "execution_count": 0,
   "metadata": {
    "application/vnd.databricks.v1+cell": {
     "cellMetadata": {},
     "inputWidgets": {},
     "nuid": "3aa4896b-d7f8-4e8c-b51c-5c502efb6e38",
     "showTitle": false,
     "tableResultSettingsMap": {},
     "title": ""
    }
   },
   "outputs": [],
   "source": [
    "create streaming table sales as\n",
    "select * from cloud_files(\"abfss://raw@adlsdatamaster.dfs.core.windows.net/dlt/sales\", \"csv\")"
   ]
  },
  {
   "cell_type": "code",
   "execution_count": 0,
   "metadata": {
    "application/vnd.databricks.v1+cell": {
     "cellMetadata": {},
     "inputWidgets": {},
     "nuid": "15c9c5a8-e47f-4091-91d3-c2209991c3bc",
     "showTitle": false,
     "tableResultSettingsMap": {},
     "title": ""
    }
   },
   "outputs": [],
   "source": [
    "create streaming table sales_sivler\n",
    "(\n",
    "  CONSTRAINT valid_order_id EXPECT (order_id IS NOT NULL) ON VIOLATION DROP ROW\n",
    ") \n",
    "as \n",
    "select distinct * from stream(live.sales )"
   ]
  },
  {
   "cell_type": "code",
   "execution_count": 0,
   "metadata": {
    "application/vnd.databricks.v1+cell": {
     "cellMetadata": {},
     "inputWidgets": {},
     "nuid": "0507121d-331b-4a0f-b62d-721ca7db3e3d",
     "showTitle": false,
     "tableResultSettingsMap": {},
     "title": ""
    }
   },
   "outputs": [],
   "source": [
    "create streaming table products as\n",
    "select * from cloud_files(\"abfss://raw@adlsdatamaster.dfs.core.windows.net/dlt/product\", \"csv\")"
   ]
  },
  {
   "cell_type": "code",
   "execution_count": 0,
   "metadata": {
    "application/vnd.databricks.v1+cell": {
     "cellMetadata": {},
     "inputWidgets": {},
     "nuid": "7ce7a9f3-1cf4-4fb9-acda-d8b698c40acc",
     "showTitle": false,
     "tableResultSettingsMap": {},
     "title": ""
    }
   },
   "outputs": [],
   "source": [
    "-- Create and populate the target table.\n",
    "CREATE OR REFRESH STREAMING TABLE products_silver;\n",
    "\n",
    "APPLY CHANGES INTO\n",
    "  products_silver\n",
    "FROM\n",
    "  stream(live.products)\n",
    "KEYS\n",
    "  (product_id)\n",
    "APPLY AS DELETE WHEN\n",
    "  operation = \"DELETE\"\n",
    "SEQUENCE BY\n",
    "  seqNum\n",
    "COLUMNS * EXCEPT\n",
    "  (operation, seqNum,_rescued_data)\n",
    "STORED AS\n",
    "  SCD TYPE 1;"
   ]
  }
 ],
 "metadata": {
  "application/vnd.databricks.v1+notebook": {
   "computePreferences": null,
   "dashboards": [],
   "environmentMetadata": {
    "base_environment": "",
    "environment_version": "2"
   },
   "language": "sql",
   "notebookMetadata": {
    "pythonIndentUnit": 4
   },
   "notebookName": "Delta Live Table",
   "widgets": {}
  },
  "language_info": {
   "name": "sql"
  }
 },
 "nbformat": 4,
 "nbformat_minor": 0
}
